{
  "nbformat": 4,
  "nbformat_minor": 0,
  "metadata": {
    "colab": {
      "provenance": [],
      "authorship_tag": "ABX9TyMYg4n+7ARRkwMTfMDaAsvG",
      "include_colab_link": true
    },
    "kernelspec": {
      "name": "python3",
      "display_name": "Python 3"
    },
    "language_info": {
      "name": "python"
    }
  },
  "cells": [
    {
      "cell_type": "markdown",
      "metadata": {
        "id": "view-in-github",
        "colab_type": "text"
      },
      "source": [
        "<a href=\"https://colab.research.google.com/github/Ismath/Python/blob/main/Week2_DeliveryFeeCalculator.ipynb\" target=\"_parent\"><img src=\"https://colab.research.google.com/assets/colab-badge.svg\" alt=\"Open In Colab\"/></a>"
      ]
    },
    {
      "cell_type": "code",
      "execution_count": null,
      "metadata": {
        "colab": {
          "base_uri": "https://localhost:8080/"
        },
        "id": "tGumNkujcmJc",
        "outputId": "3757f24b-d031-4005-ffa6-548feeb03eab"
      },
      "outputs": [
        {
          "metadata": {
            "tags": null
          },
          "name": "stdout",
          "output_type": "stream",
          "text": [
            "Current UTC time in ISO 8601 format: 2024-10-06T07:36:30.717828Z\n",
            "Today is: Sunday\n",
            "Welcome to Delivery Service\n",
            "distance Fee 200\n"
          ]
        }
      ],
      "source": [
        "from datetime import datetime, timedelta\n",
        "# Get current date and time\n",
        "\n",
        "\n",
        "# Get the current UTC time in ISO 8601 format\n",
        "current_utc_time_iso = datetime.utcnow().isoformat() + 'Z'  # Append 'Z' to indicate UTC\n",
        "print(\"Current UTC time in ISO 8601 format:\", current_utc_time_iso)\n",
        "\n",
        "\n",
        "# Get today's date\n",
        "#today = now.date()\n",
        "#print(\"Today's date:\", today)\n",
        "\n",
        "# Get the day of the week\n",
        "now = datetime.now()\n",
        "day_of_week = now.strftime(\"%A\")\n",
        "print(\"Today is:\", day_of_week)\n",
        "\n",
        "\n",
        "print(\"Welcome to Delivery Service\")\n",
        "\n",
        "\n",
        "global cartValue\n",
        "cartValue = int(input(\"Input cart value\")) # in cents\n",
        "distance = int (input(\"Enter the distance to deliver in meter\"))\n",
        "quantity = int(input(\"Enter the number of items\"))\n",
        "#time = input(\"Enter the time of delivery\")\n",
        "\n",
        "def distanceFee(distance):\n",
        "    deliveryFee = 0\n",
        "    if distance <= 1000 :\n",
        "        deliveryFee = 200 #cents\n",
        "    else:\n",
        "        if (distance - 1000 ) % 500 == 0 :\n",
        "            deliveryFee = 200 +  (100 * ((distance - 1000 ) // 500 ))\n",
        "        else:\n",
        "            #additional_distance = distance - 1000\n",
        "            deliveryFee = 300 + (100 * ((distance-1000) // 500))  # 1 euro for every 500 meters\n",
        "\n",
        "\n",
        "\n",
        "    print(\"distance Fee\",deliveryFee)\n",
        "    return deliveryFee\n",
        "\n",
        "\n",
        "\n",
        "def numberOfItem(quantity):\n",
        "    deliveryFee = 0\n",
        "    while cartValue != 20000:\n",
        "        surcharge = 10000 - cartValue\n",
        "\n",
        "        if quantity < 5 :\n",
        "            deliveryFee = surcharge\n",
        "        elif (quantity > 4) and (quantity <12 ) :\n",
        "            deliveryFee = (surcharge + (50 * (quantity - 4)) ) + 120\n",
        "\n",
        "        if deliveryFee <= 1500:\n",
        "            return deliveryFee\n",
        "        else:\n",
        "            deliveryFee = 1500\n",
        "\n",
        "    else:\n",
        "        deliveryFee = 0\n",
        "    return deliveryFee\n",
        "    print(\"number of item Fee\",deliveryFee)\n",
        "\n",
        "def deliveryFeeTime(current_utc_time_iso, day_of_week):\n",
        "    #if (current_utc_time_iso >= 15.00) and (current_utc_time_iso <= 19.00) :\n",
        "    if day_of_week == \"Friday\" :\n",
        "      if deliveryFee < 1500 :\n",
        "        totalFee = deliveryFee * 1.2\n",
        "      else:\n",
        "        totalFee = 1500\n",
        "      print(\"TimeFee\",deliveryFee)\n",
        "def delivery_main():\n",
        "    delivery_fee = distanceFee(distance) + numberOfItem(quantity)\n",
        "    total_fee = deliveryFeeTime(current_utc_time_iso, day_of_week)\n",
        "\n",
        "    print(\"total_fee:\", total_fee)\n",
        "    print(\"delivery_fee:\", delivery_fee)\n",
        "\n",
        "if __name__ == \"__main__\":\n",
        "    delivery_main()\n",
        "\n",
        "\n",
        "\n",
        "\n",
        "\n",
        "\n",
        "\n",
        "\n",
        "\n",
        "\n",
        "\n",
        "\n",
        "\n",
        "\n",
        "\n"
      ]
    }
  ]
}