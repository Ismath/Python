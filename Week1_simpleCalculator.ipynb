{
  "nbformat": 4,
  "nbformat_minor": 0,
  "metadata": {
    "colab": {
      "provenance": [],
      "authorship_tag": "ABX9TyOQuiJvxsPjUFD3refiBLUh",
      "include_colab_link": true
    },
    "kernelspec": {
      "name": "python3",
      "display_name": "Python 3"
    },
    "language_info": {
      "name": "python"
    }
  },
  "cells": [
    {
      "cell_type": "markdown",
      "metadata": {
        "id": "view-in-github",
        "colab_type": "text"
      },
      "source": [
        "<a href=\"https://colab.research.google.com/github/Ismath/Python/blob/main/Week1_simpleCalculator.ipynb\" target=\"_parent\"><img src=\"https://colab.research.google.com/assets/colab-badge.svg\" alt=\"Open In Colab\"/></a>"
      ]
    },
    {
      "cell_type": "code",
      "execution_count": null,
      "metadata": {
        "colab": {
          "base_uri": "https://localhost:8080/"
        },
        "id": "ulMyl6qR5oMA",
        "outputId": "38e5c18a-87c3-4032-9de7-e3e385b0736f"
      },
      "outputs": [
        {
          "output_type": "stream",
          "name": "stdout",
          "text": [
            "Select operation.\n",
            "1.Add\n",
            "2.Subtract\n",
            "3.Multiply\n",
            "4.Divide\n",
            "5.Exit\n"
          ]
        }
      ],
      "source": [
        "def addition(a,b):\n",
        "  #if a.isdigit() and b.isdigit():\n",
        "  return a+b\n",
        "def subtraction(a,b):\n",
        "  #if a.isdigit() and b.isdigit():\n",
        "  return a-b\n",
        "def multiplication(a,b):\n",
        "  #if a.isdigit() and b.isdigit():\n",
        "  return a*b\n",
        "def division(a,b):\n",
        "  #if a.isdigit() and b.isdigit():\n",
        "  return a/b\n",
        "\n",
        "print(\"Select operation.\")\n",
        "print(\"1.Add\")\n",
        "print(\"2.Subtract\")\n",
        "print(\"3.Multiply\")\n",
        "print(\"4.Divide\")\n",
        "print(\"5.Exit\")\n",
        "\n",
        "while True:\n",
        " choice = input(\"Enter choice(1/2/3/4/5): \")\n",
        " while choice not in ('1', '2', '3', '4','5'):\n",
        "  choice = input(\"Enter a valid choice(1/2/3/4/5): \")\n",
        " a = input(\"Enter first number: \")\n",
        " b = input(\"Enter second number: \")\n",
        " if a.isdigit() and b.isdigit():\n",
        "\n",
        "   a = int(a)\n",
        "\n",
        "   b = int(b)\n",
        "\n",
        "\n",
        "\n",
        "\n",
        "   if choice in ('1', '2', '3', '4','5'):\n",
        "\n",
        "    if choice == '1':\n",
        "     print(a, \"+\", b, \"=\", addition(a, b))\n",
        "    if choice == '2':\n",
        "     print(a, \"-\", b, \"=\", subtraction(a, b))\n",
        "    if choice == '3':\n",
        "     print(a, \"*\", b, \"=\", multiplication(a, b))\n",
        "    if choice == '4':\n",
        "     print(a, \"/\", b, \"=\", division(a, b))\n",
        "    if choice == '5':\n",
        "     print(\"Exit\")\n",
        "     break\n",
        "\n",
        " else:\n",
        "   print(\"Invalid input\")\n",
        "\n",
        "\n",
        " # need to code for 5 to exit without enter digits\n",
        "\n",
        "\n",
        "\n",
        "\n",
        "\n",
        "\n",
        "\n"
      ]
    }
  ]
}